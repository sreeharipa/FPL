{
 "metadata": {
  "language_info": {
   "codemirror_mode": {
    "name": "ipython",
    "version": 3
   },
   "file_extension": ".py",
   "mimetype": "text/x-python",
   "name": "python",
   "nbconvert_exporter": "python",
   "pygments_lexer": "ipython3",
   "version": "3.7.0"
  },
  "orig_nbformat": 2,
  "kernelspec": {
   "name": "python3",
   "display_name": "Python 3.7.0 32-bit",
   "metadata": {
    "interpreter": {
     "hash": "a9f0e5242b76620d354f2acae913d66ded7e850a66e3cb2e130e3aa882d33a20"
    }
   }
  }
 },
 "nbformat": 4,
 "nbformat_minor": 2,
 "cells": [
  {
   "cell_type": "code",
   "execution_count": 17,
   "metadata": {},
   "outputs": [],
   "source": [
    "import pandas as pd\n",
    "import numpy as np\n"
   ]
  },
  {
   "cell_type": "code",
   "execution_count": 18,
   "metadata": {},
   "outputs": [],
   "source": [
    "df = pd.read_csv(\"for/liverpoolfor.csv\")\n",
    "df1 = pd.read_csv(\"Against/liverpoolaga.csv\")"
   ]
  },
  {
   "cell_type": "code",
   "execution_count": 20,
   "metadata": {},
   "outputs": [],
   "source": [
    "df = df.drop('Match Report', axis = 1)"
   ]
  },
  {
   "cell_type": "code",
   "execution_count": 21,
   "metadata": {},
   "outputs": [
    {
     "output_type": "execute_result",
     "data": {
      "text/plain": [
       "Index(['Date', 'Time', 'Round', 'Day', 'Venue', 'Result', 'GF', 'GA',\n",
       "       'Opponent', 'Gls', 'Sh', 'SoT', 'SoT%', 'G/Sh', 'G/SoT', 'Dist', 'FK',\n",
       "       'PK', 'PKatt', 'xG', 'npxG', 'npxG/Sh', 'G-xG', 'np:G-xG'],\n",
       "      dtype='object')"
      ]
     },
     "metadata": {},
     "execution_count": 21
    }
   ],
   "source": [
    "df.columns"
   ]
  },
  {
   "cell_type": "code",
   "execution_count": 22,
   "metadata": {},
   "outputs": [
    {
     "output_type": "execute_result",
     "data": {
      "text/plain": [
       "Index(['Date', 'Time', 'Round', 'Day', 'Venue', 'Result', 'GF', 'GA',\n",
       "       'Opponent', 'Gls', 'Sh', 'SoT', 'SoT%', 'G/Sh', 'G/SoT', 'Dist', 'FK',\n",
       "       'PK', 'PKatt', 'xG', 'npxG', 'npxG/Sh', 'G-xG', 'np:G-xG',\n",
       "       'Match Report'],\n",
       "      dtype='object')"
      ]
     },
     "metadata": {},
     "execution_count": 22
    }
   ],
   "source": [
    "df1.columns"
   ]
  },
  {
   "cell_type": "code",
   "execution_count": 23,
   "metadata": {},
   "outputs": [],
   "source": [
    "df = df[['Date', 'Time', 'Round', 'Day', 'Venue', 'Result', 'GF', 'GA', 'Opponent', 'xG', 'G-xG']]"
   ]
  },
  {
   "cell_type": "code",
   "execution_count": 24,
   "metadata": {},
   "outputs": [],
   "source": [
    "df['xGa'] = df1['xG']"
   ]
  },
  {
   "cell_type": "code",
   "execution_count": 25,
   "metadata": {},
   "outputs": [
    {
     "output_type": "execute_result",
     "data": {
      "text/plain": [
       "          Date           Time         Round  Day Venue  Result  GF  GA  \\\n",
       "0   2020-09-12  17:30 (22:00)   Matchweek 1  Sat  Home       W   4   3   \n",
       "1   2020-09-20  16:30 (21:00)   Matchweek 2  Sun  Away       W   2   0   \n",
       "2   2020-09-28  20:00 (00:30)   Matchweek 3  Mon  Home       W   3   1   \n",
       "3   2020-10-04  19:15 (23:45)   Matchweek 4  Sun  Away       L   2   7   \n",
       "4   2020-10-17  12:30 (17:00)   Matchweek 5  Sat  Away       D   2   2   \n",
       "5   2020-10-24  20:00 (00:30)   Matchweek 6  Sat  Home       W   2   1   \n",
       "6   2020-10-31  17:30 (23:00)   Matchweek 7  Sat  Home       W   2   1   \n",
       "7   2020-11-08  16:30 (22:00)   Matchweek 8  Sun  Away       D   1   1   \n",
       "8   2020-11-22  19:15 (00:45)   Matchweek 9  Sun  Home       W   3   0   \n",
       "9   2020-11-28  12:30 (18:00)  Matchweek 10  Sat  Away       D   1   1   \n",
       "10  2020-12-06  19:15 (00:45)  Matchweek 11  Sun  Home       W   4   0   \n",
       "11  2020-12-13  16:30 (22:00)  Matchweek 12  Sun  Away       D   1   1   \n",
       "12  2020-12-16  20:00 (01:30)  Matchweek 13  Wed  Home       W   2   1   \n",
       "13  2020-12-19  12:30 (18:00)  Matchweek 14  Sat  Away       W   7   0   \n",
       "14  2020-12-27  16:30 (22:00)  Matchweek 15  Sun  Home       D   1   1   \n",
       "15  2020-12-30  20:00 (01:30)  Matchweek 16  Wed  Away       D   0   0   \n",
       "16  2021-01-04  20:00 (01:30)  Matchweek 17  Mon  Away       L   0   1   \n",
       "17  2021-01-17  16:30 (22:00)  Matchweek 19  Sun  Home       D   0   0   \n",
       "18  2021-01-21  20:00 (01:30)  Matchweek 18  Thu  Home       L   0   1   \n",
       "19  2021-01-28  20:00 (01:30)  Matchweek 20  Thu  Away       W   3   1   \n",
       "20  2021-01-31  16:30 (22:00)  Matchweek 21  Sun  Away       W   3   1   \n",
       "21  2021-02-03  20:15 (01:45)  Matchweek 22  Wed  Home       L   0   1   \n",
       "22  2021-02-07  16:30 (22:00)  Matchweek 23  Sun  Home       L   1   4   \n",
       "23  2021-02-13  12:30 (18:00)  Matchweek 24  Sat  Away       L   1   3   \n",
       "24  2021-02-20  17:30 (23:00)  Matchweek 25  Sat  Home       L   0   2   \n",
       "25  2021-02-28  19:15 (00:45)  Matchweek 26  Sun  Away       W   2   0   \n",
       "26  2021-03-04  20:15 (01:45)  Matchweek 29  Thu  Home       L   0   1   \n",
       "27  2021-03-07  14:00 (19:30)  Matchweek 27  Sun  Home       L   0   1   \n",
       "28  2021-03-15  20:00 (01:30)  Matchweek 28  Mon  Away       W   1   0   \n",
       "29         NaN            NaN           NaN  NaN   NaN  13-7-9  48  36   \n",
       "\n",
       "           Opponent    xG  G-xG   xGa  \n",
       "0      Leeds United   3.3   0.7   0.6  \n",
       "1           Chelsea   2.6  -0.6   1.0  \n",
       "2           Arsenal   3.2  -0.2   1.2  \n",
       "3       Aston Villa   1.8   0.2   3.9  \n",
       "4           Everton   2.2  -0.2   1.3  \n",
       "5     Sheffield Utd   2.5  -0.5   1.5  \n",
       "6          West Ham   1.8   0.2   0.5  \n",
       "7   Manchester City   1.4  -0.4   1.6  \n",
       "8    Leicester City   3.7  -1.7   1.3  \n",
       "9          Brighton   0.5   0.5   2.1  \n",
       "10           Wolves   1.2   1.8   0.5  \n",
       "11           Fulham   2.1  -1.1   1.5  \n",
       "12        Tottenham   1.2   0.8   1.3  \n",
       "13   Crystal Palace   2.1   4.9   0.3  \n",
       "14        West Brom   1.6  -0.6   0.5  \n",
       "15    Newcastle Utd   1.1  -1.1   0.3  \n",
       "16      Southampton   1.1  -1.1   0.6  \n",
       "17   Manchester Utd   1.7  -1.7   0.9  \n",
       "18          Burnley   2.3  -2.3   1.4  \n",
       "19        Tottenham   2.1   0.9   0.2  \n",
       "20         West Ham   1.8   1.2   1.0  \n",
       "21         Brighton   0.7  -0.7   1.1  \n",
       "22  Manchester City   1.3  -0.3   3.1  \n",
       "23   Leicester City   1.8  -0.8   2.6  \n",
       "24          Everton   1.7  -1.7   1.5  \n",
       "25    Sheffield Utd   2.7  -1.7   0.6  \n",
       "26          Chelsea   0.3  -0.3   1.0  \n",
       "27           Fulham   1.0  -1.0   1.1  \n",
       "28           Wolves   1.1  -0.1   0.8  \n",
       "29              NaN  51.8  -6.8  35.4  "
      ],
      "text/html": "<div>\n<style scoped>\n    .dataframe tbody tr th:only-of-type {\n        vertical-align: middle;\n    }\n\n    .dataframe tbody tr th {\n        vertical-align: top;\n    }\n\n    .dataframe thead th {\n        text-align: right;\n    }\n</style>\n<table border=\"1\" class=\"dataframe\">\n  <thead>\n    <tr style=\"text-align: right;\">\n      <th></th>\n      <th>Date</th>\n      <th>Time</th>\n      <th>Round</th>\n      <th>Day</th>\n      <th>Venue</th>\n      <th>Result</th>\n      <th>GF</th>\n      <th>GA</th>\n      <th>Opponent</th>\n      <th>xG</th>\n      <th>G-xG</th>\n      <th>xGa</th>\n    </tr>\n  </thead>\n  <tbody>\n    <tr>\n      <th>0</th>\n      <td>2020-09-12</td>\n      <td>17:30 (22:00)</td>\n      <td>Matchweek 1</td>\n      <td>Sat</td>\n      <td>Home</td>\n      <td>W</td>\n      <td>4</td>\n      <td>3</td>\n      <td>Leeds United</td>\n      <td>3.3</td>\n      <td>0.7</td>\n      <td>0.6</td>\n    </tr>\n    <tr>\n      <th>1</th>\n      <td>2020-09-20</td>\n      <td>16:30 (21:00)</td>\n      <td>Matchweek 2</td>\n      <td>Sun</td>\n      <td>Away</td>\n      <td>W</td>\n      <td>2</td>\n      <td>0</td>\n      <td>Chelsea</td>\n      <td>2.6</td>\n      <td>-0.6</td>\n      <td>1.0</td>\n    </tr>\n    <tr>\n      <th>2</th>\n      <td>2020-09-28</td>\n      <td>20:00 (00:30)</td>\n      <td>Matchweek 3</td>\n      <td>Mon</td>\n      <td>Home</td>\n      <td>W</td>\n      <td>3</td>\n      <td>1</td>\n      <td>Arsenal</td>\n      <td>3.2</td>\n      <td>-0.2</td>\n      <td>1.2</td>\n    </tr>\n    <tr>\n      <th>3</th>\n      <td>2020-10-04</td>\n      <td>19:15 (23:45)</td>\n      <td>Matchweek 4</td>\n      <td>Sun</td>\n      <td>Away</td>\n      <td>L</td>\n      <td>2</td>\n      <td>7</td>\n      <td>Aston Villa</td>\n      <td>1.8</td>\n      <td>0.2</td>\n      <td>3.9</td>\n    </tr>\n    <tr>\n      <th>4</th>\n      <td>2020-10-17</td>\n      <td>12:30 (17:00)</td>\n      <td>Matchweek 5</td>\n      <td>Sat</td>\n      <td>Away</td>\n      <td>D</td>\n      <td>2</td>\n      <td>2</td>\n      <td>Everton</td>\n      <td>2.2</td>\n      <td>-0.2</td>\n      <td>1.3</td>\n    </tr>\n    <tr>\n      <th>5</th>\n      <td>2020-10-24</td>\n      <td>20:00 (00:30)</td>\n      <td>Matchweek 6</td>\n      <td>Sat</td>\n      <td>Home</td>\n      <td>W</td>\n      <td>2</td>\n      <td>1</td>\n      <td>Sheffield Utd</td>\n      <td>2.5</td>\n      <td>-0.5</td>\n      <td>1.5</td>\n    </tr>\n    <tr>\n      <th>6</th>\n      <td>2020-10-31</td>\n      <td>17:30 (23:00)</td>\n      <td>Matchweek 7</td>\n      <td>Sat</td>\n      <td>Home</td>\n      <td>W</td>\n      <td>2</td>\n      <td>1</td>\n      <td>West Ham</td>\n      <td>1.8</td>\n      <td>0.2</td>\n      <td>0.5</td>\n    </tr>\n    <tr>\n      <th>7</th>\n      <td>2020-11-08</td>\n      <td>16:30 (22:00)</td>\n      <td>Matchweek 8</td>\n      <td>Sun</td>\n      <td>Away</td>\n      <td>D</td>\n      <td>1</td>\n      <td>1</td>\n      <td>Manchester City</td>\n      <td>1.4</td>\n      <td>-0.4</td>\n      <td>1.6</td>\n    </tr>\n    <tr>\n      <th>8</th>\n      <td>2020-11-22</td>\n      <td>19:15 (00:45)</td>\n      <td>Matchweek 9</td>\n      <td>Sun</td>\n      <td>Home</td>\n      <td>W</td>\n      <td>3</td>\n      <td>0</td>\n      <td>Leicester City</td>\n      <td>3.7</td>\n      <td>-1.7</td>\n      <td>1.3</td>\n    </tr>\n    <tr>\n      <th>9</th>\n      <td>2020-11-28</td>\n      <td>12:30 (18:00)</td>\n      <td>Matchweek 10</td>\n      <td>Sat</td>\n      <td>Away</td>\n      <td>D</td>\n      <td>1</td>\n      <td>1</td>\n      <td>Brighton</td>\n      <td>0.5</td>\n      <td>0.5</td>\n      <td>2.1</td>\n    </tr>\n    <tr>\n      <th>10</th>\n      <td>2020-12-06</td>\n      <td>19:15 (00:45)</td>\n      <td>Matchweek 11</td>\n      <td>Sun</td>\n      <td>Home</td>\n      <td>W</td>\n      <td>4</td>\n      <td>0</td>\n      <td>Wolves</td>\n      <td>1.2</td>\n      <td>1.8</td>\n      <td>0.5</td>\n    </tr>\n    <tr>\n      <th>11</th>\n      <td>2020-12-13</td>\n      <td>16:30 (22:00)</td>\n      <td>Matchweek 12</td>\n      <td>Sun</td>\n      <td>Away</td>\n      <td>D</td>\n      <td>1</td>\n      <td>1</td>\n      <td>Fulham</td>\n      <td>2.1</td>\n      <td>-1.1</td>\n      <td>1.5</td>\n    </tr>\n    <tr>\n      <th>12</th>\n      <td>2020-12-16</td>\n      <td>20:00 (01:30)</td>\n      <td>Matchweek 13</td>\n      <td>Wed</td>\n      <td>Home</td>\n      <td>W</td>\n      <td>2</td>\n      <td>1</td>\n      <td>Tottenham</td>\n      <td>1.2</td>\n      <td>0.8</td>\n      <td>1.3</td>\n    </tr>\n    <tr>\n      <th>13</th>\n      <td>2020-12-19</td>\n      <td>12:30 (18:00)</td>\n      <td>Matchweek 14</td>\n      <td>Sat</td>\n      <td>Away</td>\n      <td>W</td>\n      <td>7</td>\n      <td>0</td>\n      <td>Crystal Palace</td>\n      <td>2.1</td>\n      <td>4.9</td>\n      <td>0.3</td>\n    </tr>\n    <tr>\n      <th>14</th>\n      <td>2020-12-27</td>\n      <td>16:30 (22:00)</td>\n      <td>Matchweek 15</td>\n      <td>Sun</td>\n      <td>Home</td>\n      <td>D</td>\n      <td>1</td>\n      <td>1</td>\n      <td>West Brom</td>\n      <td>1.6</td>\n      <td>-0.6</td>\n      <td>0.5</td>\n    </tr>\n    <tr>\n      <th>15</th>\n      <td>2020-12-30</td>\n      <td>20:00 (01:30)</td>\n      <td>Matchweek 16</td>\n      <td>Wed</td>\n      <td>Away</td>\n      <td>D</td>\n      <td>0</td>\n      <td>0</td>\n      <td>Newcastle Utd</td>\n      <td>1.1</td>\n      <td>-1.1</td>\n      <td>0.3</td>\n    </tr>\n    <tr>\n      <th>16</th>\n      <td>2021-01-04</td>\n      <td>20:00 (01:30)</td>\n      <td>Matchweek 17</td>\n      <td>Mon</td>\n      <td>Away</td>\n      <td>L</td>\n      <td>0</td>\n      <td>1</td>\n      <td>Southampton</td>\n      <td>1.1</td>\n      <td>-1.1</td>\n      <td>0.6</td>\n    </tr>\n    <tr>\n      <th>17</th>\n      <td>2021-01-17</td>\n      <td>16:30 (22:00)</td>\n      <td>Matchweek 19</td>\n      <td>Sun</td>\n      <td>Home</td>\n      <td>D</td>\n      <td>0</td>\n      <td>0</td>\n      <td>Manchester Utd</td>\n      <td>1.7</td>\n      <td>-1.7</td>\n      <td>0.9</td>\n    </tr>\n    <tr>\n      <th>18</th>\n      <td>2021-01-21</td>\n      <td>20:00 (01:30)</td>\n      <td>Matchweek 18</td>\n      <td>Thu</td>\n      <td>Home</td>\n      <td>L</td>\n      <td>0</td>\n      <td>1</td>\n      <td>Burnley</td>\n      <td>2.3</td>\n      <td>-2.3</td>\n      <td>1.4</td>\n    </tr>\n    <tr>\n      <th>19</th>\n      <td>2021-01-28</td>\n      <td>20:00 (01:30)</td>\n      <td>Matchweek 20</td>\n      <td>Thu</td>\n      <td>Away</td>\n      <td>W</td>\n      <td>3</td>\n      <td>1</td>\n      <td>Tottenham</td>\n      <td>2.1</td>\n      <td>0.9</td>\n      <td>0.2</td>\n    </tr>\n    <tr>\n      <th>20</th>\n      <td>2021-01-31</td>\n      <td>16:30 (22:00)</td>\n      <td>Matchweek 21</td>\n      <td>Sun</td>\n      <td>Away</td>\n      <td>W</td>\n      <td>3</td>\n      <td>1</td>\n      <td>West Ham</td>\n      <td>1.8</td>\n      <td>1.2</td>\n      <td>1.0</td>\n    </tr>\n    <tr>\n      <th>21</th>\n      <td>2021-02-03</td>\n      <td>20:15 (01:45)</td>\n      <td>Matchweek 22</td>\n      <td>Wed</td>\n      <td>Home</td>\n      <td>L</td>\n      <td>0</td>\n      <td>1</td>\n      <td>Brighton</td>\n      <td>0.7</td>\n      <td>-0.7</td>\n      <td>1.1</td>\n    </tr>\n    <tr>\n      <th>22</th>\n      <td>2021-02-07</td>\n      <td>16:30 (22:00)</td>\n      <td>Matchweek 23</td>\n      <td>Sun</td>\n      <td>Home</td>\n      <td>L</td>\n      <td>1</td>\n      <td>4</td>\n      <td>Manchester City</td>\n      <td>1.3</td>\n      <td>-0.3</td>\n      <td>3.1</td>\n    </tr>\n    <tr>\n      <th>23</th>\n      <td>2021-02-13</td>\n      <td>12:30 (18:00)</td>\n      <td>Matchweek 24</td>\n      <td>Sat</td>\n      <td>Away</td>\n      <td>L</td>\n      <td>1</td>\n      <td>3</td>\n      <td>Leicester City</td>\n      <td>1.8</td>\n      <td>-0.8</td>\n      <td>2.6</td>\n    </tr>\n    <tr>\n      <th>24</th>\n      <td>2021-02-20</td>\n      <td>17:30 (23:00)</td>\n      <td>Matchweek 25</td>\n      <td>Sat</td>\n      <td>Home</td>\n      <td>L</td>\n      <td>0</td>\n      <td>2</td>\n      <td>Everton</td>\n      <td>1.7</td>\n      <td>-1.7</td>\n      <td>1.5</td>\n    </tr>\n    <tr>\n      <th>25</th>\n      <td>2021-02-28</td>\n      <td>19:15 (00:45)</td>\n      <td>Matchweek 26</td>\n      <td>Sun</td>\n      <td>Away</td>\n      <td>W</td>\n      <td>2</td>\n      <td>0</td>\n      <td>Sheffield Utd</td>\n      <td>2.7</td>\n      <td>-1.7</td>\n      <td>0.6</td>\n    </tr>\n    <tr>\n      <th>26</th>\n      <td>2021-03-04</td>\n      <td>20:15 (01:45)</td>\n      <td>Matchweek 29</td>\n      <td>Thu</td>\n      <td>Home</td>\n      <td>L</td>\n      <td>0</td>\n      <td>1</td>\n      <td>Chelsea</td>\n      <td>0.3</td>\n      <td>-0.3</td>\n      <td>1.0</td>\n    </tr>\n    <tr>\n      <th>27</th>\n      <td>2021-03-07</td>\n      <td>14:00 (19:30)</td>\n      <td>Matchweek 27</td>\n      <td>Sun</td>\n      <td>Home</td>\n      <td>L</td>\n      <td>0</td>\n      <td>1</td>\n      <td>Fulham</td>\n      <td>1.0</td>\n      <td>-1.0</td>\n      <td>1.1</td>\n    </tr>\n    <tr>\n      <th>28</th>\n      <td>2021-03-15</td>\n      <td>20:00 (01:30)</td>\n      <td>Matchweek 28</td>\n      <td>Mon</td>\n      <td>Away</td>\n      <td>W</td>\n      <td>1</td>\n      <td>0</td>\n      <td>Wolves</td>\n      <td>1.1</td>\n      <td>-0.1</td>\n      <td>0.8</td>\n    </tr>\n    <tr>\n      <th>29</th>\n      <td>NaN</td>\n      <td>NaN</td>\n      <td>NaN</td>\n      <td>NaN</td>\n      <td>NaN</td>\n      <td>13-7-9</td>\n      <td>48</td>\n      <td>36</td>\n      <td>NaN</td>\n      <td>51.8</td>\n      <td>-6.8</td>\n      <td>35.4</td>\n    </tr>\n  </tbody>\n</table>\n</div>"
     },
     "metadata": {},
     "execution_count": 25
    }
   ],
   "source": [
    "df"
   ]
  },
  {
   "cell_type": "code",
   "execution_count": 26,
   "metadata": {},
   "outputs": [],
   "source": [
    "df.to_csv(\"Teamdata/liverpool.csv\")"
   ]
  },
  {
   "cell_type": "code",
   "execution_count": null,
   "metadata": {},
   "outputs": [],
   "source": []
  }
 ]
}